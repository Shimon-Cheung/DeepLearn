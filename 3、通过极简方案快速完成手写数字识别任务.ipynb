{
 "cells": [
  {
   "cell_type": "markdown",
   "metadata": {
    "collapsed": false
   },
   "source": [
    "### 通过极简方案实现数字识别任务\n",
    "上一节介绍了创新性的“横纵式”教学法，有助于深度学习初学者快速掌握深度学习理论知识，并在过程中让读者获得真实建模的实战体验。在“横纵式”教学法中，纵向概要介绍模型的基本代码结构和极简实现方案\n",
    "![](https://ai-studio-static-online.cdn.bcebos.com/dd8d51f8ae634666934841d7fe797a0cda6c8f0ed4434448aafd2ce6082302ff)"
   ]
  },
  {
   "cell_type": "markdown",
   "metadata": {
    "collapsed": false
   },
   "source": [
    "在数据处理前，首先要加载飞桨平台与“手写数字识别”模型相关的类库，实现方法如下。"
   ]
  },
  {
   "cell_type": "code",
   "execution_count": 2,
   "metadata": {
    "collapsed": false
   },
   "outputs": [],
   "source": [
    "#加载飞桨和相关类库\n",
    "import paddle\n",
    "from paddle.nn import Linear\n",
    "import paddle.nn.functional as F\n",
    "import os\n",
    "import numpy as np\n",
    "import matplotlib.pyplot as plt"
   ]
  },
  {
   "attachments": {},
   "cell_type": "markdown",
   "metadata": {
    "collapsed": false
   },
   "source": [
    "通过paddle.vision.datasets.MNIST API设置数据读取器，代码如下所示。"
   ]
  },
  {
   "cell_type": "code",
   "execution_count": 3,
   "metadata": {},
   "outputs": [],
   "source": [
    "# 设置数据读取器，API自动读取MNIST数据训练集\n",
    "train_dataset = paddle.vision.datasets.MNIST(mode='train')"
   ]
  },
  {
   "attachments": {},
   "cell_type": "markdown",
   "metadata": {},
   "source": [
    "通过如下代码读取任意一个数据内容，观察打印结果。"
   ]
  },
  {
   "cell_type": "code",
   "execution_count": 4,
   "metadata": {},
   "outputs": [
    {
     "data": {
      "text/plain": [
       "<Figure size 640x480 with 0 Axes>"
      ]
     },
     "metadata": {},
     "output_type": "display_data"
    },
    {
     "data": {
      "image/png": "[encoded data removed]",
      "text/plain": [
       "<Figure size 200x200 with 1 Axes>"
      ]
     },
     "metadata": {},
     "output_type": "display_data"
    },
    {
     "name": "stdout",
     "output_type": "stream",
     "text": [
      "图像数据形状和对应数据为: (28, 28)\n",
      "图像标签形状和对应数据为: (1,) [5]\n",
      "\n",
      "打印第一个batch的第一个图像，对应标签数字为[5]\n"
     ]
    }
   ],
   "source": [
    "train_data_0 = np.array(train_dataset[0][0])\n",
    "train_label_0 = np.array(train_dataset[0][1])\n",
    "\n",
    "# 显示第一batch的第一个图像\n",
    "import matplotlib.pyplot as plt\n",
    "plt.figure(\"Image\") # 图像窗口名称\n",
    "plt.figure(figsize=(2,2))\n",
    "plt.imshow(train_data_0, cmap=plt.cm.binary)\n",
    "plt.axis('on') # 关掉坐标轴为 off\n",
    "plt.title('image') # 图像题目\n",
    "plt.show()\n",
    "\n",
    "print(\"图像数据形状和对应数据为:\", train_data_0.shape)\n",
    "print(\"图像标签形状和对应数据为:\", train_label_0.shape, train_label_0)\n",
    "print(\"\\n打印第一个batch的第一个图像，对应标签数字为{}\".format(train_label_0))"
   ]
  },
  {
   "cell_type": "code",
   "execution_count": 5,
   "metadata": {},
   "outputs": [],
   "source": [
    "# 定义mnist数据识别网络结构，同房价预测网络\n",
    "class MNIST(paddle.nn.Layer):\n",
    "    def __init__(self):\n",
    "        super(MNIST, self).__init__()\n",
    "        \n",
    "        # 定义一层全连接层，输出维度是1,28x28=784\n",
    "        self.fc = paddle.nn.Linear(in_features=784, out_features=1)\n",
    "        \n",
    "    # 定义网络结构的前向计算过程\n",
    "    def forward(self, inputs):\n",
    "        outputs = self.fc(inputs)\n",
    "        return outputs"
   ]
  },
  {
   "cell_type": "code",
   "execution_count": 6,
   "metadata": {},
   "outputs": [],
   "source": [
    "# 声明网络结构\n",
    "model = MNIST()\n",
    "\n",
    "def train(model):\n",
    "    # 启动训练模式\n",
    "    model.train()\n",
    "    # 加载训练集 batch_size 设为 16\n",
    "    train_loader = paddle.io.DataLoader(paddle.vision.datasets.MNIST(mode='train'), \n",
    "                                        batch_size=16, \n",
    "                                        shuffle=True)\n",
    "    # 定义优化器，使用随机梯度下降SGD优化器，学习率设置为0.001\n",
    "    opt = paddle.optimizer.SGD(learning_rate=0.001, parameters=model.parameters())"
   ]
  },
  {
   "attachments": {},
   "cell_type": "markdown",
   "metadata": {},
   "source": [
    "### 训练过程\n",
    "训练过程采用二层循环嵌套方式，训练完成后需要保存模型参数，以便后续使用。\n",
    "\n",
    "- 内层循环：负责整个数据集的一次遍历，遍历数据集采用分批次（batch）方式。\n",
    "- 外层循环：定义遍历数据集的次数，本次训练中外层循环10次，通过参数EPOCH_NUM设置。"
   ]
  },
  {
   "cell_type": "code",
   "execution_count": 7,
   "metadata": {},
   "outputs": [],
   "source": [
    "# 图像归一化函数，将数据范围为[0, 255]的图像归一化到[0, 1]\n",
    "def norm_img(img):\n",
    "    # 验证传入数据格式是否正确，img的shape为[batch_size, 28, 28]\n",
    "    assert len(img.shape) == 3\n",
    "    batch_size, img_h, img_w = img.shape[0], img.shape[1], img.shape[2]\n",
    "    # 归一化图像数据\n",
    "    img = img / 255\n",
    "    # 将图像形式reshape为[batch_size, 784]\n",
    "    img = paddle.reshape(img, [batch_size, img_h*img_w])\n",
    "    \n",
    "    return img"
   ]
  },
  {
   "cell_type": "code",
   "execution_count": 8,
   "metadata": {},
   "outputs": [
    {
     "name": "stdout",
     "output_type": "stream",
     "text": [
      "epoch_id: 0, batch_id: 0, loss is: 35.37991714477539\n",
      "epoch_id: 0, batch_id: 1000, loss is: 4.342895030975342\n",
      "epoch_id: 0, batch_id: 2000, loss is: 2.161548614501953\n",
      "epoch_id: 0, batch_id: 3000, loss is: 2.568909168243408\n",
      "epoch_id: 1, batch_id: 0, loss is: 5.114665508270264\n",
      "epoch_id: 1, batch_id: 1000, loss is: 3.4113049507141113\n",
      "epoch_id: 1, batch_id: 2000, loss is: 4.2501702308654785\n",
      "epoch_id: 1, batch_id: 3000, loss is: 3.208578109741211\n",
      "epoch_id: 2, batch_id: 0, loss is: 3.5904321670532227\n",
      "epoch_id: 2, batch_id: 1000, loss is: 1.8504105806350708\n",
      "epoch_id: 2, batch_id: 2000, loss is: 4.175838470458984\n",
      "epoch_id: 2, batch_id: 3000, loss is: 3.164630889892578\n",
      "epoch_id: 3, batch_id: 0, loss is: 1.7543251514434814\n",
      "epoch_id: 3, batch_id: 1000, loss is: 1.667447566986084\n",
      "epoch_id: 3, batch_id: 2000, loss is: 2.691319465637207\n",
      "epoch_id: 3, batch_id: 3000, loss is: 5.1262311935424805\n",
      "epoch_id: 4, batch_id: 0, loss is: 1.7251365184783936\n",
      "epoch_id: 4, batch_id: 1000, loss is: 5.089587211608887\n",
      "epoch_id: 4, batch_id: 2000, loss is: 5.213928699493408\n",
      "epoch_id: 4, batch_id: 3000, loss is: 3.5069668292999268\n",
      "epoch_id: 5, batch_id: 0, loss is: 3.049891471862793\n",
      "epoch_id: 5, batch_id: 1000, loss is: 2.1907052993774414\n",
      "epoch_id: 5, batch_id: 2000, loss is: 2.234326124191284\n",
      "epoch_id: 5, batch_id: 3000, loss is: 2.1745548248291016\n",
      "epoch_id: 6, batch_id: 0, loss is: 2.635784149169922\n",
      "epoch_id: 6, batch_id: 1000, loss is: 2.6381797790527344\n",
      "epoch_id: 6, batch_id: 2000, loss is: 1.983428955078125\n",
      "epoch_id: 6, batch_id: 3000, loss is: 3.1175947189331055\n",
      "epoch_id: 7, batch_id: 0, loss is: 1.8808342218399048\n",
      "epoch_id: 7, batch_id: 1000, loss is: 2.36128306388855\n",
      "epoch_id: 7, batch_id: 2000, loss is: 4.710735321044922\n",
      "epoch_id: 7, batch_id: 3000, loss is: 1.880702018737793\n",
      "epoch_id: 8, batch_id: 0, loss is: 2.141563892364502\n",
      "epoch_id: 8, batch_id: 1000, loss is: 2.1603355407714844\n",
      "epoch_id: 8, batch_id: 2000, loss is: 2.689783811569214\n",
      "epoch_id: 8, batch_id: 3000, loss is: 2.684968948364258\n",
      "epoch_id: 9, batch_id: 0, loss is: 3.0408668518066406\n",
      "epoch_id: 9, batch_id: 1000, loss is: 3.2734639644622803\n",
      "epoch_id: 9, batch_id: 2000, loss is: 4.261848449707031\n",
      "epoch_id: 9, batch_id: 3000, loss is: 5.2875871658325195\n"
     ]
    }
   ],
   "source": [
    "import paddle\n",
    "# 确保从paddle.vision.datasets.MNIST中加载的图像数据是np.ndarray类型\n",
    "paddle.vision.set_image_backend('cv2')\n",
    "\n",
    "# 声明网络结构\n",
    "model = MNIST()\n",
    "\n",
    "def train(model):\n",
    "    # 启动训练模式\n",
    "    model.train()\n",
    "    # 加载训练集 batch_size 设为 16\n",
    "    train_loader = paddle.io.DataLoader(paddle.vision.datasets.MNIST(mode='train'), \n",
    "                                        batch_size=16, \n",
    "                                        shuffle=True)\n",
    "    # 定义优化器，使用随机梯度下降SGD优化器，学习率设置为0.001\n",
    "    opt = paddle.optimizer.SGD(learning_rate=0.001, parameters=model.parameters())\n",
    "    EPOCH_NUM = 10\n",
    "    loss_list = []\n",
    "    for epoch in range(EPOCH_NUM):\n",
    "        for batch_id, data in enumerate(train_loader()):\n",
    "            images = norm_img(data[0]).astype('float32')\n",
    "            labels = data[1].astype('float32')\n",
    "            \n",
    "            #前向计算的过程\n",
    "            predicts = model(images)\n",
    "            \n",
    "            # 计算损失\n",
    "            loss = F.square_error_cost(predicts, labels)\n",
    "            avg_loss = paddle.mean(loss)\n",
    "            \n",
    "            #每训练了1000批次的数据，打印下当前Loss的情况\n",
    "            if batch_id % 1000 == 0:\n",
    "                loss = avg_loss.numpy()[0]\n",
    "                loss_list.append(loss)\n",
    "                print(\"epoch_id: {}, batch_id: {}, loss is: {}\".format(epoch, batch_id, loss))\n",
    "            \n",
    "            #后向传播，更新参数的过程\n",
    "            avg_loss.backward()\n",
    "            opt.step()\n",
    "            opt.clear_grad()\n",
    "    \n",
    "    return loss_list\n",
    "            \n",
    "loss_list = train(model)\n",
    "paddle.save(model.state_dict(), './dataset/mnist.pdparams')"
   ]
  },
  {
   "cell_type": "code",
   "execution_count": 9,
   "metadata": {},
   "outputs": [
    {
     "data": {
      "image/png": "[encoded data removed]",
      "text/plain": [
       "<Figure size 1000x500 with 1 Axes>"
      ]
     },
     "metadata": {},
     "output_type": "display_data"
    }
   ],
   "source": [
    "def plot(loss_list):\n",
    "    plt.figure(figsize=(10,5))\n",
    "    \n",
    "    freqs = [i for i in range(len(loss_list))]\n",
    "    # 绘制训练损失变化曲线\n",
    "    plt.plot(freqs, loss_list, color='#e4007f', label=\"Train loss\")\n",
    "    \n",
    "    # 绘制坐标轴和图例\n",
    "    plt.ylabel(\"loss\", fontsize='large')\n",
    "    plt.xlabel(\"freq\", fontsize='large')\n",
    "    plt.legend(loc='upper right', fontsize='x-large')\n",
    "    \n",
    "    plt.show()\n",
    "\n",
    "plot(loss_list)"
   ]
  },
  {
   "attachments": {},
   "cell_type": "markdown",
   "metadata": {},
   "source": [
    "### 模型测试\n",
    "模型测试的主要目的是验证训练好的模型是否能正确识别出数字，包括如下四步：\n",
    "\n",
    "- 声明实例。\n",
    "- 加载模型：加载训练过程中保存的模型参数。\n",
    "- 灌入数据：将测试样本传入模型，模型的状态设置为校验状态（eval），显式告诉框架我们接下来只会使用前向计算的流程，不会计算梯度和梯度反向传播。\n",
    "- 获取预测结果，取整后作为预测标签输出。\n",
    "\n",
    "在模型测试之前，需要先从'./work/example_0.png'文件中读取样例图片，并进行归一化处理。"
   ]
  },
  {
   "cell_type": "code",
   "execution_count": 10,
   "metadata": {},
   "outputs": [
    {
     "ename": "FileNotFoundError",
     "evalue": "[Errno 2] No such file or directory: './work/example_0.jpg'",
     "output_type": "error",
     "traceback": [
      "\u001b[1;31m---------------------------------------------------------------------------\u001b[0m",
      "\u001b[1;31mFileNotFoundError\u001b[0m                         Traceback (most recent call last)",
      "Cell \u001b[1;32mIn[10], line 8\u001b[0m\n\u001b[0;32m      6\u001b[0m img_path \u001b[39m=\u001b[39m \u001b[39m'\u001b[39m\u001b[39m./work/example_0.jpg\u001b[39m\u001b[39m'\u001b[39m\n\u001b[0;32m      7\u001b[0m \u001b[39m# 读取原始图像并显示\u001b[39;00m\n\u001b[1;32m----> 8\u001b[0m im \u001b[39m=\u001b[39m Image\u001b[39m.\u001b[39;49mopen(\u001b[39m'\u001b[39;49m\u001b[39m./work/example_0.jpg\u001b[39;49m\u001b[39m'\u001b[39;49m)\n\u001b[0;32m      9\u001b[0m plt\u001b[39m.\u001b[39mimshow(im)\n\u001b[0;32m     10\u001b[0m plt\u001b[39m.\u001b[39mshow()\n",
      "File \u001b[1;32md:\\miniconda3\\envs\\paddle_env\\lib\\site-packages\\PIL\\Image.py:3227\u001b[0m, in \u001b[0;36mopen\u001b[1;34m(fp, mode, formats)\u001b[0m\n\u001b[0;32m   3224\u001b[0m     filename \u001b[39m=\u001b[39m fp\n\u001b[0;32m   3226\u001b[0m \u001b[39mif\u001b[39;00m filename:\n\u001b[1;32m-> 3227\u001b[0m     fp \u001b[39m=\u001b[39m builtins\u001b[39m.\u001b[39;49mopen(filename, \u001b[39m\"\u001b[39;49m\u001b[39mrb\u001b[39;49m\u001b[39m\"\u001b[39;49m)\n\u001b[0;32m   3228\u001b[0m     exclusive_fp \u001b[39m=\u001b[39m \u001b[39mTrue\u001b[39;00m\n\u001b[0;32m   3230\u001b[0m \u001b[39mtry\u001b[39;00m:\n",
      "\u001b[1;31mFileNotFoundError\u001b[0m: [Errno 2] No such file or directory: './work/example_0.jpg'"
     ]
    }
   ],
   "source": [
    "# 导入图像读取第三方库\n",
    "import matplotlib.pyplot as plt\n",
    "import numpy as np\n",
    "from PIL import Image\n",
    "\n",
    "img_path = './work/example_0.jpg'\n",
    "# 读取原始图像并显示\n",
    "im = Image.open('./work/example_0.jpg')\n",
    "plt.imshow(im)\n",
    "plt.show()\n",
    "# 将原始图像转为灰度图\n",
    "im = im.convert('L')\n",
    "print('原始图像shape: ', np.array(im).shape)\n",
    "# 使用Image.ANTIALIAS方式采样原始图片\n",
    "im = im.resize((28, 28), Image.ANTIALIAS)\n",
    "plt.imshow(im)\n",
    "plt.show()\n",
    "print(\"采样后图片shape: \", np.array(im).shape)"
   ]
  }
 ],
 "metadata": {
  "kernelspec": {
   "display_name": "Python 3",
   "language": "python",
   "name": "python3"
  },
  "language_info": {
   "codemirror_mode": {
    "name": "ipython",
    "version": 3
   },
   "file_extension": ".py",
   "mimetype": "text/x-python",
   "name": "python",
   "nbconvert_exporter": "python",
   "pygments_lexer": "ipython3",
   "version": "3.9.16"
  }
 },
 "nbformat": 4,
 "nbformat_minor": 0
}
