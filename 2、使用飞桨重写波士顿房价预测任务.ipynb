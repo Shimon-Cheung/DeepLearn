{
 "cells": [
  {
   "attachments": {},
   "cell_type": "markdown",
   "metadata": {},
   "source": [
    "先用基础paddle api实现一遍波士顿房价预测代码"
   ]
  },
  {
   "cell_type": "code",
   "execution_count": 12,
   "metadata": {},
   "outputs": [],
   "source": [
    "#加载飞桨、NumPy和相关类库\n",
    "import paddle\n",
    "from paddle.nn import Linear\n",
    "import paddle.nn.functional as F\n",
    "import numpy as np\n",
    "import os\n",
    "import random"
   ]
  },
  {
   "cell_type": "code",
   "execution_count": 13,
   "metadata": {},
   "outputs": [],
   "source": [
    "def load_data():\n",
    "    # 从文件导入数据\n",
    "    datafile = './dataset/housing.data'\n",
    "    data = np.fromfile(datafile, sep=' ', dtype=np.float32)\n",
    "\n",
    "    # 每条数据包括14项，其中前面13项是影响因素，第14项是相应的房屋价格中位数\n",
    "    feature_names = [ 'CRIM', 'ZN', 'INDUS', 'CHAS', 'NOX', 'RM', 'AGE', \\\n",
    "                      'DIS', 'RAD', 'TAX', 'PTRATIO', 'B', 'LSTAT', 'MEDV' ]\n",
    "    feature_num = len(feature_names)\n",
    "\n",
    "    # 将原始数据进行Reshape，变成[N, 14]这样的形状\n",
    "    data = data.reshape([data.shape[0] // feature_num, feature_num])\n",
    "\n",
    "    # 将原数据集拆分成训练集和测试集\n",
    "    # 这里使用80%的数据做训练，20%的数据做测试\n",
    "    # 测试集和训练集必须是没有交集的\n",
    "    ratio = 0.8\n",
    "    offset = int(data.shape[0] * ratio)\n",
    "    training_data = data[:offset]\n",
    "\n",
    "    # 计算train数据集的最大值，最小值\n",
    "    maximums, minimums = training_data.max(axis=0), training_data.min(axis=0)\n",
    "    \n",
    "    # 记录数据的归一化参数，在预测时对数据做归一化\n",
    "    global max_values\n",
    "    global min_values\n",
    "    \n",
    "    max_values = maximums\n",
    "    min_values = minimums\n",
    "    \n",
    "    # 对数据进行归一化处理\n",
    "    for i in range(feature_num):\n",
    "        data[:, i] = (data[:, i] - min_values[i]) / (maximums[i] - minimums[i])\n",
    "\n",
    "    # 训练集和测试集的划分比例\n",
    "    training_data = data[:offset]\n",
    "    test_data = data[offset:]\n",
    "    return training_data, test_data"
   ]
  },
  {
   "cell_type": "code",
   "execution_count": 14,
   "metadata": {},
   "outputs": [
    {
     "name": "stdout",
     "output_type": "stream",
     "text": [
      "(404, 14)\n",
      "[2.35922547e-04 0.00000000e+00 2.62405723e-01 0.00000000e+00\n",
      " 1.72839552e-01 5.47997713e-01 7.82698274e-01 3.48961979e-01\n",
      " 4.34782617e-02 1.14822544e-01 5.53191364e-01 1.00000000e+00\n",
      " 2.04470202e-01 3.68888885e-01]\n"
     ]
    }
   ],
   "source": [
    "# 验证数据集读取程序的正确性\n",
    "training_data, test_data = load_data()\n",
    "print(training_data.shape)\n",
    "print(training_data[1,:])"
   ]
  },
  {
   "cell_type": "code",
   "execution_count": 15,
   "metadata": {},
   "outputs": [],
   "source": [
    "\n",
    "class Regressor(paddle.nn.Layer):\n",
    "\n",
    "    # self代表类的实例自身\n",
    "    def __init__(self):\n",
    "        # 初始化父类中的一些参数\n",
    "        super(Regressor, self).__init__()\n",
    "        \n",
    "        # 定义一层全连接层，输入维度是13，输出维度是1\n",
    "        self.fc = Linear(in_features=13, out_features=1)\n",
    "    \n",
    "    # 网络的前向计算\n",
    "    def forward(self, inputs):\n",
    "        x = self.fc(inputs)\n",
    "        return x"
   ]
  },
  {
   "cell_type": "code",
   "execution_count": 16,
   "metadata": {},
   "outputs": [],
   "source": [
    "# 声明定义好的线性回归模型\n",
    "model = Regressor()\n",
    "# 开启模型训练模式,其实就是开启梯队计算\n",
    "model.train()\n",
    "# 加载数据\n",
    "training_data, test_data = load_data()\n",
    "# 定义优化算法，使用随机梯度下降SGD\n",
    "# 学习率设置为0.01\n",
    "opt = paddle.optimizer.SGD(learning_rate=0.01, parameters=model.parameters())"
   ]
  },
  {
   "cell_type": "code",
   "execution_count": 17,
   "metadata": {},
   "outputs": [
    {
     "name": "stdout",
     "output_type": "stream",
     "text": [
      "epoch: 0, iter: 0, loss is: [2.2076557]\n",
      "epoch: 0, iter: 20, loss is: [0.07618679]\n",
      "epoch: 0, iter: 40, loss is: [0.02612843]\n",
      "epoch: 1, iter: 0, loss is: [0.07610629]\n",
      "epoch: 1, iter: 20, loss is: [0.00968877]\n",
      "epoch: 1, iter: 40, loss is: [0.02388722]\n",
      "epoch: 2, iter: 0, loss is: [0.02153625]\n",
      "epoch: 2, iter: 20, loss is: [0.02186276]\n",
      "epoch: 2, iter: 40, loss is: [0.05852266]\n",
      "epoch: 3, iter: 0, loss is: [0.02084023]\n",
      "epoch: 3, iter: 20, loss is: [0.02612997]\n",
      "epoch: 3, iter: 40, loss is: [0.03032033]\n",
      "epoch: 4, iter: 0, loss is: [0.01767743]\n",
      "epoch: 4, iter: 20, loss is: [0.02002891]\n",
      "epoch: 4, iter: 40, loss is: [0.01445417]\n",
      "epoch: 5, iter: 0, loss is: [0.03107721]\n",
      "epoch: 5, iter: 20, loss is: [0.01126196]\n",
      "epoch: 5, iter: 40, loss is: [0.03829217]\n",
      "epoch: 6, iter: 0, loss is: [0.01852001]\n",
      "epoch: 6, iter: 20, loss is: [0.02074878]\n",
      "epoch: 6, iter: 40, loss is: [0.04512689]\n",
      "epoch: 7, iter: 0, loss is: [0.02578101]\n",
      "epoch: 7, iter: 20, loss is: [0.01287604]\n",
      "epoch: 7, iter: 40, loss is: [0.01945192]\n",
      "epoch: 8, iter: 0, loss is: [0.03266565]\n",
      "epoch: 8, iter: 20, loss is: [0.02253739]\n",
      "epoch: 8, iter: 40, loss is: [0.03737804]\n",
      "epoch: 9, iter: 0, loss is: [0.04902579]\n",
      "epoch: 9, iter: 20, loss is: [0.01165657]\n",
      "epoch: 9, iter: 40, loss is: [0.03172923]\n"
     ]
    }
   ],
   "source": [
    "EPOCH_NUM = 10   # 设置外层循环次数\n",
    "BATCH_SIZE = 10  # 设置batch大小\n",
    "\n",
    "# 定义外层循环\n",
    "for epoch_id in range(EPOCH_NUM):\n",
    "    # 在每轮迭代开始之前，将训练数据的顺序随机的打乱\n",
    "    np.random.shuffle(training_data)\n",
    "    # 将训练数据进行拆分，每个batch包含10条数据\n",
    "    mini_batches = [training_data[k:k+BATCH_SIZE] for k in range(0, len(training_data), BATCH_SIZE)]\n",
    "    # 定义内层循环\n",
    "    for iter_id, mini_batch in enumerate(mini_batches):\n",
    "        x = np.array(mini_batch[:, :-1]) # 获得当前批次训练数据\n",
    "        y = np.array(mini_batch[:, -1:]) # 获得当前批次训练标签（真实房价）\n",
    "        # 将numpy数据转为飞桨动态图tensor的格式\n",
    "        house_features = paddle.to_tensor(x,dtype='float32')\n",
    "        prices = paddle.to_tensor(y,dtype='float32')\n",
    "        \n",
    "        # 前向计算\n",
    "        predicts = model(house_features)\n",
    "\n",
    "        # 计算损失\n",
    "        loss = F.square_error_cost(predicts, label=prices)\n",
    "        avg_loss = paddle.mean(loss)\n",
    "        if iter_id%20==0:\n",
    "            print(\"epoch: {}, iter: {}, loss is: {}\".format(epoch_id, iter_id, avg_loss.numpy()))\n",
    "        \n",
    "        # 反向传播，计算每层参数的梯度值\n",
    "        avg_loss.backward()\n",
    "        # 更新参数，根据设置好的学习率迭代一步\n",
    "        opt.step()\n",
    "        # 清空梯度变量，以备下一轮计算\n",
    "        opt.clear_grad()"
   ]
  },
  {
   "cell_type": "code",
   "execution_count": 18,
   "metadata": {},
   "outputs": [
    {
     "name": "stdout",
     "output_type": "stream",
     "text": [
      "模型保存成功,模型参数保存在LR_model.pdparams中\n"
     ]
    }
   ],
   "source": [
    "# 保存模型参数，文件名为LR_model.pdparams\n",
    "paddle.save(model.state_dict(), './model/LR_model.pdparams')\n",
    "print(\"模型保存成功,模型参数保存在LR_model.pdparams中\")"
   ]
  },
  {
   "cell_type": "code",
   "execution_count": 19,
   "metadata": {},
   "outputs": [],
   "source": [
    "def load_one_example():\n",
    "    # 从上边已加载的测试集中，随机选择一条作为测试数据\n",
    "    idx = np.random.randint(0, test_data.shape[0])\n",
    "    idx = -10\n",
    "    one_data, label = test_data[idx, :-1], test_data[idx, -1]\n",
    "    # 修改该条数据shape为[1,13]\n",
    "    one_data =  one_data.reshape([1,-1])\n",
    "\n",
    "    return one_data, label"
   ]
  },
  {
   "cell_type": "code",
   "execution_count": 20,
   "metadata": {},
   "outputs": [
    {
     "name": "stdout",
     "output_type": "stream",
     "text": [
      "Inference result is [[19.733261]], the corresponding label is 19.700000762939453\n"
     ]
    }
   ],
   "source": [
    "# 参数为保存模型参数的文件地址\n",
    "model_dict = paddle.load('./model/LR_model.pdparams')\n",
    "model.load_dict(model_dict)\n",
    "model.eval()\n",
    "\n",
    "\n",
    "# 参数为数据集的文件地址\n",
    "one_data, label = load_one_example()\n",
    "# 将数据转为动态图的variable格式 \n",
    "one_data = paddle.to_tensor(one_data,dtype=\"float32\")\n",
    "predict = model(one_data)\n",
    "\n",
    "# 对结果做反归一化处理\n",
    "predict = predict * (max_values[-1] - min_values[-1]) + min_values[-1]\n",
    "# 对label数据做反归一化处理\n",
    "label = label * (max_values[-1] - min_values[-1]) + min_values[-1]\n",
    "\n",
    "print(\"Inference result is {}, the corresponding label is {}\".format(predict.numpy(), label))"
   ]
  },
  {
   "attachments": {},
   "cell_type": "markdown",
   "metadata": {},
   "source": [
    "接下来，使用paddle高级api实现一遍，更加的精简\n"
   ]
  },
  {
   "cell_type": "code",
   "execution_count": 21,
   "metadata": {},
   "outputs": [
    {
     "name": "stdout",
     "output_type": "stream",
     "text": [
      "The loss value printed in the log is the current step, and the metric is the average value of previous steps.\n",
      "Epoch 1/10\n",
      "step 51/51 [==============================] - loss: 233.9016 - 732us/step          \n",
      "Eval begin...\n",
      "step 13/13 [==============================] - loss: 107.7886 - 589us/step          \n",
      "Eval samples: 102\n",
      "Epoch 2/10\n",
      "step 51/51 [==============================] - loss: 27.6975 - 763us/step           \n",
      "Eval begin...\n",
      "step 13/13 [==============================] - loss: 30.6626 - 653us/step          \n",
      "Eval samples: 102\n",
      "Epoch 3/10\n",
      "step 51/51 [==============================] - loss: 11.4891 - 718us/step           \n",
      "Eval begin...\n",
      "step 13/13 [==============================] - loss: 15.9126 - 513us/step          \n",
      "Eval samples: 102\n",
      "Epoch 4/10\n",
      "step 51/51 [==============================] - loss: 17.9654 - 754us/step          \n",
      "Eval begin...\n",
      "step 13/13 [==============================] - loss: 17.1145 - 617us/step          \n",
      "Eval samples: 102\n",
      "Epoch 5/10\n",
      "step 51/51 [==============================] - loss: 13.1168 - 796us/step          \n",
      "Eval begin...\n",
      "step 13/13 [==============================] - loss: 20.8131 - 582us/step          \n",
      "Eval samples: 102\n",
      "Epoch 6/10\n",
      "step 51/51 [==============================] - loss: 24.1467 - 736us/step          \n",
      "Eval begin...\n",
      "step 13/13 [==============================] - loss: 24.1535 - 597us/step          \n",
      "Eval samples: 102\n",
      "Epoch 7/10\n",
      "step 51/51 [==============================] - loss: 19.8767 - 706us/step          \n",
      "Eval begin...\n",
      "step 13/13 [==============================] - loss: 25.9356 - 582us/step          \n",
      "Eval samples: 102\n",
      "Epoch 8/10\n",
      "step 51/51 [==============================] - loss: 20.6723 - 694us/step          \n",
      "Eval begin...\n",
      "step 13/13 [==============================] - loss: 26.6649 - 474us/step          \n",
      "Eval samples: 102\n",
      "Epoch 9/10\n",
      "step 51/51 [==============================] - loss: 12.0380 - 728us/step          \n",
      "Eval begin...\n",
      "step 13/13 [==============================] - loss: 26.5603 - 556us/step          \n",
      "Eval samples: 102\n",
      "Epoch 10/10\n",
      "step 51/51 [==============================] - loss: 15.8405 - 711us/step          \n",
      "Eval begin...\n",
      "step 13/13 [==============================] - loss: 26.3480 - 586us/step          \n",
      "Eval samples: 102\n",
      "Eval begin...\n",
      "step 10/13 - loss: 14.8810 - 576us/step\n",
      "step 13/13 - loss: 26.3480 - 598us/step\n",
      "Eval samples: 102\n",
      "result: {'loss': [26.348017]}\n",
      "Predict begin...\n",
      "step 1/1 [==============================] - 1ms/step\n",
      "Predict samples: 13\n",
      "Inference result is 15.699075698852539, the corresponding label is 19.700000762939453\n"
     ]
    }
   ],
   "source": [
    "import paddle\n",
    "paddle.set_default_dtype(\"float32\")\n",
    "\n",
    "# 用高层API定义数据集，无需进行数据处理等，高层API为你一条龙搞定\n",
    "train_dataset = paddle.text.datasets.UCIHousing(mode='train')\n",
    "eval_dataset = paddle.text.datasets.UCIHousing(mode='test')\n",
    "\n",
    "# 训练模型\n",
    "model = paddle.Model(Regressor())\n",
    "model.prepare(optimizer=paddle.optimizer.SGD(learning_rate=0.005, parameters=model.parameters()),\n",
    "              loss=paddle.nn.MSELoss())\n",
    "model.fit(train_dataset, eval_dataset, epochs=10, batch_size=8, verbose=1)\n",
    "\n",
    "result = model.evaluate(eval_dataset, batch_size=8)\n",
    "print(\"result:\",result)\n",
    "\n",
    "result_pred = model.predict(one_data, batch_size=1) # result_pred是一个list，元素数目对应模型的输出数目\n",
    "result_pred = result_pred[0] # tuple,其中第一个值是个array\n",
    "print(\"Inference result is {}, the corresponding label is {}\".format(result_pred[0][0], label))"
   ]
  }
 ],
 "metadata": {
  "kernelspec": {
   "display_name": "paddle",
   "language": "python",
   "name": "python3"
  },
  "language_info": {
   "codemirror_mode": {
    "name": "ipython",
    "version": 3
   },
   "file_extension": ".py",
   "mimetype": "text/x-python",
   "name": "python",
   "nbconvert_exporter": "python",
   "pygments_lexer": "ipython3",
   "version": "3.9.16"
  },
  "orig_nbformat": 4
 },
 "nbformat": 4,
 "nbformat_minor": 2
}
