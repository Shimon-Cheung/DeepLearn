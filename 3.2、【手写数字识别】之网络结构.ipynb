{
 "cells": [
  {
   "attachments": {},
   "cell_type": "markdown",
   "metadata": {},
   "source": [
    "之前用的网络都是单层线性网络模型，效果不理想，现在需要对网络模型 进行优化\n",
    "![](https://ai-studio-static-online.cdn.bcebos.com/a3cec44cfb614703a12d17b3dacf5d9ef92d5a82db2046c1b5f8aba744bb80de)"
   ]
  },
  {
   "cell_type": "code",
   "execution_count": 7,
   "metadata": {},
   "outputs": [],
   "source": [
    "import paddle\n",
    "from paddle.vision.transforms import Normalize"
   ]
  },
  {
   "cell_type": "code",
   "execution_count": 8,
   "metadata": {},
   "outputs": [
    {
     "name": "stderr",
     "output_type": "stream",
     "text": [
      "Cache file C:\\Users\\shimon\\.cache\\paddle\\dataset\\mnist\\t10k-images-idx3-ubyte.gz not found, downloading https://dataset.bj.bcebos.com/mnist/t10k-images-idx3-ubyte.gz \n",
      "Begin to download\n"
     ]
    },
    {
     "name": "stdout",
     "output_type": "stream",
     "text": [
      "item 403/403 [============================>.] - ETA: 0s - 13ms/item"
     ]
    },
    {
     "name": "stderr",
     "output_type": "stream",
     "text": [
      "\n",
      "Download finished\n",
      "Cache file C:\\Users\\shimon\\.cache\\paddle\\dataset\\mnist\\t10k-labels-idx1-ubyte.gz not found, downloading https://dataset.bj.bcebos.com/mnist/t10k-labels-idx1-ubyte.gz \n",
      "Begin to download\n"
     ]
    },
    {
     "name": "stdout",
     "output_type": "stream",
     "text": [
      "item 2/2 [===========================>..] - ETA: 0s - 2ms/item"
     ]
    },
    {
     "name": "stderr",
     "output_type": "stream",
     "text": [
      "\n",
      "Download finished\n",
      "d:\\miniconda3\\envs\\paddle_env\\lib\\site-packages\\paddle\\fluid\\reader.py:486: UserWarning: DataLoader with multi-process mode is not supported on MacOs and Windows currently. Please use signle-process mode with num_workers = 0 instead\n",
      "  warnings.warn(\n"
     ]
    }
   ],
   "source": [
    "# 数据加载函数方便下面调用\n",
    "def get_MNIST_dataloader():\n",
    "    # 定义图像归一化处理方法，这里的CHW指图像格式需为 [C通道数，H图像高度，W图像宽度]\n",
    "    transform = Normalize(mean=[127.5], std=[127.5], data_format='CHW')\n",
    "    # 下载数据集并初始化 DataSet\n",
    "    train_dataset = paddle.vision.datasets.MNIST(mode='train', transform=transform)\n",
    "    test_dataset = paddle.vision.datasets.MNIST(mode='test', transform=transform)\n",
    "\n",
    "    # 定义并初始化数据读取器\n",
    "    train_loader = paddle.io.DataLoader(train_dataset, batch_size=64, shuffle=True, num_workers=1, drop_last=True)\n",
    "    test_loader = paddle.io.DataLoader(test_dataset, batch_size=64, shuffle=False, num_workers=1, drop_last=False)\n",
    "\n",
    "    return train_loader, test_loader\n",
    "\n",
    "\n",
    "train_loader,_ = get_MNIST_dataloader()"
   ]
  },
  {
   "attachments": {},
   "cell_type": "markdown",
   "metadata": {},
   "source": [
    "![](https://ai-studio-static-online.cdn.bcebos.com/2173259df0704335b230ec158be0427677b9c77fd42348a28f2f8adf1ac1c706)\n",
    "* 输入层：将数据输入给神经网络。在该任务中，输入层的尺度为28×28的像素值。\n",
    "* 隐含层：增加网络深度和复杂度，隐含层的节点数是可以调整的，节点数越多，神经网络表示能力越强，参数量也会增加。在该任务中，中间的两个隐含层为10×10的结构，通常隐含层会比输入层的尺寸小，以便对关键信息做抽象，激活函数使用常见的Sigmoid函数。\n",
    "* 输出层：输出网络计算结果，输出层的节点数是固定的。如果是回归问题，节点数量为需要回归的数字数量。如果是分类问题，则是分类标签的数量。在该任务中，模型的输出是回归一个数字，输出层的尺寸为1。"
   ]
  },
  {
   "cell_type": "code",
   "execution_count": 9,
   "metadata": {},
   "outputs": [],
   "source": [
    "import paddle\n",
    "import paddle.nn.functional as F\n",
    "from paddle.nn import Linear\n",
    "\n",
    "# 定义多层全连接神经网络\n",
    "class MNIST(paddle.nn.Layer):\n",
    "    def __init__(self):\n",
    "        super(MNIST, self).__init__()\n",
    "        # 定义两层全连接隐含层，输出维度是10，当前设定隐含节点数为10，可根据任务调整\n",
    "        self.fc1 = Linear(in_features=784, out_features=10)\n",
    "        self.fc2 = Linear(in_features=10, out_features=10)\n",
    "        # 定义一层全连接输出层，输出维度是1\n",
    "        self.fc3 = Linear(in_features=10, out_features=1)\n",
    "    \n",
    "    # 定义网络的前向计算，隐含层激活函数为sigmoid，输出层不使用激活函数\n",
    "    def forward(self, inputs):\n",
    "        inputs = paddle.reshape(inputs, [inputs.shape[0], 784])\n",
    "        outputs1 = self.fc1(inputs)\n",
    "        outputs1 = F.sigmoid(outputs1)\n",
    "        outputs2 = self.fc2(outputs1)\n",
    "        outputs2 = F.sigmoid(outputs2)\n",
    "        outputs_final = self.fc3(outputs2)\n",
    "        return outputs_final"
   ]
  },
  {
   "cell_type": "code",
   "execution_count": 10,
   "metadata": {},
   "outputs": [
    {
     "name": "stdout",
     "output_type": "stream",
     "text": [
      "---------------------------------------------------------------------------\n",
      " Layer (type)       Input Shape          Output Shape         Param #    \n",
      "===========================================================================\n",
      "   Linear-7          [[1, 784]]            [1, 10]             7,850     \n",
      "   Linear-8          [[1, 10]]             [1, 10]              110      \n",
      "   Linear-9          [[1, 10]]              [1, 1]              11       \n",
      "===========================================================================\n",
      "Total params: 7,971\n",
      "Trainable params: 7,971\n",
      "Non-trainable params: 0\n",
      "---------------------------------------------------------------------------\n",
      "Input size (MB): 0.00\n",
      "Forward/backward pass size (MB): 0.00\n",
      "Params size (MB): 0.03\n",
      "Estimated Total Size (MB): 0.03\n",
      "---------------------------------------------------------------------------\n",
      "\n",
      "{'total_params': 7971, 'trainable_params': 7971}\n"
     ]
    }
   ],
   "source": [
    "model = MNIST()\n",
    "params_info = paddle.summary(model, (1, 1, 28, 28))\n",
    "print(params_info)"
   ]
  },
  {
   "cell_type": "code",
   "execution_count": 11,
   "metadata": {},
   "outputs": [
    {
     "name": "stdout",
     "output_type": "stream",
     "text": [
      "epoch: 0, batch: 0, loss is: [23.48772]\n",
      "epoch: 0, batch: 200, loss is: [4.5388184]\n",
      "epoch: 0, batch: 400, loss is: [3.2588058]\n",
      "epoch: 0, batch: 600, loss is: [3.3792841]\n",
      "epoch: 0, batch: 800, loss is: [2.800582]\n",
      "epoch: 1, batch: 0, loss is: [2.0283704]\n",
      "epoch: 1, batch: 200, loss is: [2.419256]\n",
      "epoch: 1, batch: 400, loss is: [0.88706195]\n",
      "epoch: 1, batch: 600, loss is: [3.0536935]\n",
      "epoch: 1, batch: 800, loss is: [3.0816107]\n",
      "epoch: 2, batch: 0, loss is: [1.6371665]\n",
      "epoch: 2, batch: 200, loss is: [1.0735066]\n",
      "epoch: 2, batch: 400, loss is: [1.1204636]\n",
      "epoch: 2, batch: 600, loss is: [2.992417]\n",
      "epoch: 2, batch: 800, loss is: [2.2066522]\n",
      "epoch: 3, batch: 0, loss is: [1.3851948]\n",
      "epoch: 3, batch: 200, loss is: [1.1568284]\n",
      "epoch: 3, batch: 400, loss is: [1.6903161]\n",
      "epoch: 3, batch: 600, loss is: [0.8489225]\n",
      "epoch: 3, batch: 800, loss is: [1.0682223]\n",
      "epoch: 4, batch: 0, loss is: [0.76268595]\n",
      "epoch: 4, batch: 200, loss is: [1.4886348]\n",
      "epoch: 4, batch: 400, loss is: [1.2604399]\n",
      "epoch: 4, batch: 600, loss is: [1.2130375]\n",
      "epoch: 4, batch: 800, loss is: [1.7834222]\n",
      "epoch: 5, batch: 0, loss is: [0.85863805]\n",
      "epoch: 5, batch: 200, loss is: [1.3905116]\n",
      "epoch: 5, batch: 400, loss is: [1.0869447]\n",
      "epoch: 5, batch: 600, loss is: [1.0389259]\n",
      "epoch: 5, batch: 800, loss is: [1.1566348]\n",
      "epoch: 6, batch: 0, loss is: [1.070891]\n",
      "epoch: 6, batch: 200, loss is: [1.0809668]\n",
      "epoch: 6, batch: 400, loss is: [0.95275927]\n",
      "epoch: 6, batch: 600, loss is: [1.7425599]\n",
      "epoch: 6, batch: 800, loss is: [0.83852625]\n",
      "epoch: 7, batch: 0, loss is: [0.73666775]\n",
      "epoch: 7, batch: 200, loss is: [1.2479872]\n",
      "epoch: 7, batch: 400, loss is: [0.8243641]\n",
      "epoch: 7, batch: 600, loss is: [1.0852814]\n",
      "epoch: 7, batch: 800, loss is: [0.9085804]\n",
      "epoch: 8, batch: 0, loss is: [1.6025455]\n",
      "epoch: 8, batch: 200, loss is: [0.5890426]\n",
      "epoch: 8, batch: 400, loss is: [2.026499]\n",
      "epoch: 8, batch: 600, loss is: [1.7737396]\n",
      "epoch: 8, batch: 800, loss is: [0.80839825]\n",
      "epoch: 9, batch: 0, loss is: [1.4683731]\n",
      "epoch: 9, batch: 200, loss is: [1.1204462]\n",
      "epoch: 9, batch: 400, loss is: [1.2677486]\n",
      "epoch: 9, batch: 600, loss is: [1.8884699]\n",
      "epoch: 9, batch: 800, loss is: [0.86907816]\n"
     ]
    }
   ],
   "source": [
    "#网络结构部分之后的代码，保持不变\n",
    "def train(model):\n",
    "    model.train()\n",
    "    \n",
    "    # 使用SGD优化器，learning_rate设置为0.01\n",
    "    opt = paddle.optimizer.SGD(learning_rate=0.01, parameters=model.parameters())\n",
    "    # 训练5轮\n",
    "    EPOCH_NUM = 10\n",
    "\n",
    "    loss_list = []\n",
    "    \n",
    "    for epoch_id in range(EPOCH_NUM):\n",
    "        for batch_id, data in enumerate(train_loader()):\n",
    "            #准备数据\n",
    "            images, labels = data\n",
    "\n",
    "            images = paddle.to_tensor(images)\n",
    "\n",
    "            labels = paddle.to_tensor(labels, dtype=\"float32\")\n",
    "            \n",
    "            #前向计算的过程\n",
    "            predicts = model(images)\n",
    "            \n",
    "            #计算损失，取一个批次样本损失的平均值\n",
    "            loss = F.square_error_cost(predicts, labels)\n",
    "            avg_loss = paddle.mean(loss)\n",
    "\n",
    "            #每训练200批次的数据，打印下当前Loss的情况\n",
    "            if batch_id % 200 == 0:\n",
    "                loss_list.append(avg_loss.numpy()[0])\n",
    "                print(\"epoch: {}, batch: {}, loss is: {}\".format(epoch_id, batch_id, avg_loss.numpy()))\n",
    "            \n",
    "            #后向传播，更新参数的过程\n",
    "            avg_loss.backward()\n",
    "            # 最小化loss,更新参数\n",
    "            opt.step()\n",
    "            # 清除梯度\n",
    "            opt.clear_grad()\n",
    "\n",
    "    #保存模型参数\n",
    "    paddle.save(model.state_dict(), 'mnist.pdparams')\n",
    "    return loss_list\n",
    "\n",
    "model = MNIST()\n",
    "loss_list = train(model)"
   ]
  },
  {
   "cell_type": "code",
   "execution_count": 12,
   "metadata": {},
   "outputs": [],
   "source": [
    "# 定义 SimpleNet 网络结构\n",
    "import paddle\n",
    "from paddle.nn import Conv2D, MaxPool2D, Linear\n",
    "import paddle.nn.functional as F\n",
    "# 多层卷积神经网络实现\n",
    "class MNIST(paddle.nn.Layer):\n",
    "     def __init__(self):\n",
    "         super(MNIST, self).__init__()\n",
    "         \n",
    "         # 定义卷积层，输出特征通道out_channels设置为20，卷积核的大小kernel_size为5，卷积步长stride=1，padding=2\n",
    "         self.conv1 = Conv2D(in_channels=1, out_channels=20, kernel_size=5, stride=1, padding=2)\n",
    "         # 定义池化层，池化核的大小kernel_size为2，池化步长为2\n",
    "         self.max_pool1 = MaxPool2D(kernel_size=2, stride=2)\n",
    "         # 定义卷积层，输出特征通道out_channels设置为20，卷积核的大小kernel_size为5，卷积步长stride=1，padding=2\n",
    "         self.conv2 = Conv2D(in_channels=20, out_channels=20, kernel_size=5, stride=1, padding=2)\n",
    "         # 定义池化层，池化核的大小kernel_size为2，池化步长为2\n",
    "         self.max_pool2 = MaxPool2D(kernel_size=2, stride=2)\n",
    "         # 定义一层全连接层，输出维度是1\n",
    "         self.fc = Linear(in_features=980, out_features=1)\n",
    "         \n",
    "    # 定义网络前向计算过程，卷积后紧接着使用池化层，最后使用全连接层计算最终输出\n",
    "    # 卷积层激活函数使用Relu，全连接层不使用激活函数\n",
    "     def forward(self, inputs):\n",
    "         x = self.conv1(inputs)\n",
    "         x = F.relu(x)\n",
    "         x = self.max_pool1(x)\n",
    "         x = self.conv2(x)\n",
    "         x = F.relu(x)\n",
    "         x = self.max_pool2(x)\n",
    "         x = paddle.reshape(x, [x.shape[0], -1])\n",
    "         x = self.fc(x)\n",
    "         return x"
   ]
  },
  {
   "cell_type": "code",
   "execution_count": 13,
   "metadata": {},
   "outputs": [
    {
     "name": "stdout",
     "output_type": "stream",
     "text": [
      "---------------------------------------------------------------------------\n",
      " Layer (type)       Input Shape          Output Shape         Param #    \n",
      "===========================================================================\n",
      "   Conv2D-1       [[1, 1, 28, 28]]     [1, 20, 28, 28]          520      \n",
      "  MaxPool2D-1    [[1, 20, 28, 28]]     [1, 20, 14, 14]           0       \n",
      "   Conv2D-2      [[1, 20, 14, 14]]     [1, 20, 14, 14]        10,020     \n",
      "  MaxPool2D-2    [[1, 20, 14, 14]]      [1, 20, 7, 7]            0       \n",
      "   Linear-13         [[1, 980]]             [1, 1]              981      \n",
      "===========================================================================\n",
      "Total params: 11,521\n",
      "Trainable params: 11,521\n",
      "Non-trainable params: 0\n",
      "---------------------------------------------------------------------------\n",
      "Input size (MB): 0.00\n",
      "Forward/backward pass size (MB): 0.19\n",
      "Params size (MB): 0.04\n",
      "Estimated Total Size (MB): 0.23\n",
      "---------------------------------------------------------------------------\n",
      "\n",
      "{'total_params': 11521, 'trainable_params': 11521}\n"
     ]
    }
   ],
   "source": [
    "model = MNIST()\n",
    "params_info = paddle.summary(model, (1, 1, 28, 28))\n",
    "print(params_info)"
   ]
  },
  {
   "cell_type": "code",
   "execution_count": 14,
   "metadata": {},
   "outputs": [
    {
     "name": "stdout",
     "output_type": "stream",
     "text": [
      "epoch: 0, batch: 0, loss is: [36.399822]\n",
      "epoch: 0, batch: 200, loss is: [2.3570137]\n",
      "epoch: 0, batch: 400, loss is: [2.2580333]\n",
      "epoch: 0, batch: 600, loss is: [2.4587507]\n",
      "epoch: 0, batch: 800, loss is: [1.557093]\n",
      "epoch: 1, batch: 0, loss is: [2.043179]\n",
      "epoch: 1, batch: 200, loss is: [1.6813451]\n",
      "epoch: 1, batch: 400, loss is: [1.181281]\n",
      "epoch: 1, batch: 600, loss is: [2.4105873]\n",
      "epoch: 1, batch: 800, loss is: [2.0873356]\n",
      "epoch: 2, batch: 0, loss is: [1.5336311]\n",
      "epoch: 2, batch: 200, loss is: [2.0856245]\n",
      "epoch: 2, batch: 400, loss is: [0.99403465]\n",
      "epoch: 2, batch: 600, loss is: [1.4321723]\n",
      "epoch: 2, batch: 800, loss is: [1.2517223]\n",
      "epoch: 3, batch: 0, loss is: [1.3699272]\n",
      "epoch: 3, batch: 200, loss is: [0.92330563]\n",
      "epoch: 3, batch: 400, loss is: [0.89157975]\n",
      "epoch: 3, batch: 600, loss is: [0.7458833]\n",
      "epoch: 3, batch: 800, loss is: [1.1637061]\n"
     ]
    }
   ],
   "source": [
    "#网络结构部分之后的代码，保持不变\n",
    "def train(model):\n",
    "    model.train()\n",
    "    \n",
    "    learning_rate = 0.001 \n",
    "\n",
    "    # 使用SGD优化器，设置learning_rate\n",
    "    opt = paddle.optimizer.SGD(learning_rate=learning_rate, parameters=model.parameters())\n",
    "    # 训练5轮\n",
    "    EPOCH_NUM = 10\n",
    "    # MNIST图像高和宽\n",
    "    IMG_ROWS, IMG_COLS = 28, 28\n",
    "\n",
    "    loss_list = []\n",
    "\n",
    "    for epoch_id in range(EPOCH_NUM):\n",
    "        for batch_id, data in enumerate(train_loader()):\n",
    "            #准备数据\n",
    "            images, labels = data\n",
    "            images = paddle.to_tensor(images)\n",
    "            labels = paddle.to_tensor(labels, dtype=\"float32\")\n",
    "            \n",
    "            #前向计算的过程\n",
    "            predicts = model(images) # [batch_size, 1]\n",
    "\n",
    "            #计算损失，取一个批次样本损失的平均值\n",
    "            loss = F.square_error_cost(predicts, labels)\n",
    "            avg_loss = paddle.mean(loss)\n",
    "\n",
    "            #每训练200批次的数据，打印下当前Loss的情况\n",
    "            if batch_id % 200 == 0:\n",
    "                loss_list.append(avg_loss.numpy()[0])\n",
    "                print(\"epoch: {}, batch: {}, loss is: {}\".format(epoch_id, batch_id, avg_loss.numpy()))\n",
    "            \n",
    "            #后向传播，更新参数的过程\n",
    "            avg_loss.backward()\n",
    "            # 最小化loss,更新参数\n",
    "            opt.step()\n",
    "            # 清除梯度\n",
    "            opt.clear_grad()\n",
    "\n",
    "    #保存模型参数\n",
    "    paddle.save(model.state_dict(), './model/mnist.pdparams')\n",
    "\n",
    "    return loss_list\n",
    "\n",
    "model = MNIST()\n",
    "loss_list_conv = train(model)"
   ]
  },
  {
   "cell_type": "code",
   "execution_count": null,
   "metadata": {},
   "outputs": [],
   "source": [
    "import matplotlib.pyplot as plt\n",
    "def plot_two_losses(loss_list_1, loss_list_2):\n",
    "    plt.figure(figsize=(10,5))\n",
    "    \n",
    "    freqs = [i for i in range(len(loss_list_1))]\n",
    "\n",
    "    # 绘制训练损失变化曲线\n",
    "    plt.plot(freqs, loss_list_1, color='#e4007f', label=\"Train loss1\")\n",
    "    plt.plot(freqs, loss_list_2, color='#f19ec2', linestyle='--', label=\"Train loss2\")\n",
    "    \n",
    "    # 绘制坐标轴和图例\n",
    "    plt.ylabel(\"loss\", fontsize='large')\n",
    "    plt.xlabel(\"freq\", fontsize='large')\n",
    "    plt.legend(loc='upper right', fontsize='x-large')\n",
    "    \n",
    "    plt.show()\n",
    "\n",
    "plot_two_losses(loss_list, loss_list_conv)"
   ]
  }
 ],
 "metadata": {
  "kernelspec": {
   "display_name": "paddle_env",
   "language": "python",
   "name": "python3"
  },
  "language_info": {
   "codemirror_mode": {
    "name": "ipython",
    "version": 3
   },
   "file_extension": ".py",
   "mimetype": "text/x-python",
   "name": "python",
   "nbconvert_exporter": "python",
   "pygments_lexer": "ipython3",
   "version": "3.9.16"
  },
  "orig_nbformat": 4
 },
 "nbformat": 4,
 "nbformat_minor": 2
}
