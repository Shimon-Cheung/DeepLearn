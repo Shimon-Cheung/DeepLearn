{
 "cells": [
  {
   "attachments": {},
   "cell_type": "markdown",
   "metadata": {},
   "source": [
    "上面我们对数据划分、训练样本乱序、生成批次数据以及如何封装数据读取与处理函数进行了详细的介绍。在飞桨框架中，可通过如下两个核心步骤完成数据集的定义与加载。\n",
    "![](https://ai-studio-static-online.cdn.bcebos.com/a5fd990c5355426183a71b95aa28a59f979014f6905144ddb415c5a4fe647441)"
   ]
  },
  {
   "attachments": {},
   "cell_type": "markdown",
   "metadata": {},
   "source": [
    "通过飞桨`paddle.io.Dataset`和`paddle.io.DataLoader`两个API可以轻松创建异步数据读取的迭代器。"
   ]
  },
  {
   "cell_type": "code",
   "execution_count": 10,
   "metadata": {},
   "outputs": [],
   "source": [
    "# 导入需要用到的依赖库\n",
    "import json\n",
    "import gzip\n",
    "import paddle\n",
    "from paddle.vision.transforms import Normalize # 归一化\n",
    "from paddle.io import Dataset # 数据集类\n",
    "from paddle.nn import functional as F"
   ]
  },
  {
   "cell_type": "code",
   "execution_count": 11,
   "metadata": {},
   "outputs": [
    {
     "name": "stdout",
     "output_type": "stream",
     "text": [
      "loading mnist dataset from ./dataset/mnist.json.gz ......\n",
      "mnist dataset load done\n",
      "loading mnist dataset from ./dataset/mnist.json.gz ......\n",
      "mnist dataset load done\n",
      "train images:  50000 , test images:  10000\n"
     ]
    }
   ],
   "source": [
    "# 定义图像归一化处理方法,这里的CHW指图像格式需为 [C通道数,H图像高度,W图像宽度]\n",
    "transform = Normalize(mean=[127.5], std=[127.5], data_format='CHW')\n",
    "\n",
    "class MNISTDataset(Dataset):\n",
    "    \"\"\"\n",
    "    步骤一:继承paddle.io.Dataset类\n",
    "    \"\"\"\n",
    "    \n",
    "    def __init__(self, datafile, mode='train', transform = None):\n",
    "        \"\"\"\n",
    "        步骤二:实现构造函数\n",
    "        \"\"\"\n",
    "        super().__init__()\n",
    "\n",
    "        self.mode = mode\n",
    "        self.transform = transform\n",
    "\n",
    "        print('loading mnist dataset from {} ......'.format(datafile))\n",
    "        # 加载json数据文件\n",
    "        data = json.load(gzip.open(datafile))\n",
    "        print('mnist dataset load done')\n",
    "   \n",
    "        # 读取到的数据区分训练集,验证集,测试集\n",
    "        train_set, val_set, eval_set = data\n",
    "\n",
    "        if mode=='train':\n",
    "            # 获得训练数据集\n",
    "            self.imgs, self.labels = train_set[0], train_set[1]\n",
    "        elif mode=='valid':\n",
    "            # 获得验证数据集\n",
    "            self.imgs, self.labels = val_set[0], val_set[1]\n",
    "        elif mode=='test':\n",
    "            # 获得测试数据集\n",
    "            self.imgs, self.labels = eval_set[0], eval_set[1]\n",
    "        else:\n",
    "            raise Exception(\"mode can only be one of ['train', 'valid', 'test']\")\n",
    "    \n",
    "    def __getitem__(self, index):\n",
    "        \"\"\"\n",
    "        步骤三：实现__getitem__方法，定义指定index时如何获取数据\n",
    "        \"\"\"\n",
    "        data = self.imgs[index]\n",
    "        label = self.labels[index]\n",
    "\n",
    "        return self.transform(data),label\n",
    "\n",
    "    def __len__(self):\n",
    "        \"\"\"\n",
    "        步骤四：实现__len__方法，返回数据集总数目\n",
    "        \"\"\"\n",
    "        return len(self.imgs)\n",
    "\n",
    "datafile = './dataset/mnist.json.gz'\n",
    "\n",
    "# 下载数据集并初始化 DataSet\n",
    "train_dataset = MNISTDataset(datafile, mode='train', transform=transform)\n",
    "test_dataset = MNISTDataset(datafile, mode='test', transform=transform)\n",
    "\n",
    "print('train images: ', train_dataset.__len__(), ', test images: ', test_dataset.__len__())"
   ]
  },
  {
   "attachments": {},
   "cell_type": "markdown",
   "metadata": {},
   "source": [
    "在定义完`paddle.io.Dataset`后，使用`paddle.io.DataLoader` API即可实现异步数据读取，数据会由Python线程预先读取，并异步送入一个队列中，并且可自动完成划分 batch 的工作。"
   ]
  },
  {
   "cell_type": "code",
   "execution_count": 12,
   "metadata": {},
   "outputs": [
    {
     "name": "stdout",
     "output_type": "stream",
     "text": [
      "step num: 1562\n"
     ]
    },
    {
     "name": "stderr",
     "output_type": "stream",
     "text": [
      "d:\\miniconda3\\envs\\paddle_env\\lib\\site-packages\\paddle\\fluid\\reader.py:486: UserWarning: DataLoader with multi-process mode is not supported on MacOs and Windows currently. Please use signle-process mode with num_workers = 0 instead\n",
      "  warnings.warn(\n"
     ]
    }
   ],
   "source": [
    "# 定义并初始化数据读取器\n",
    "train_loader = paddle.io.DataLoader(train_dataset,  # 传入数据集类\n",
    "                                    batch_size=32,  # 一个批次的大小\n",
    "                                    shuffle=True,  # 打乱样本的顺序\n",
    "                                    num_workers=4,  # 读取的进程\n",
    "                                    drop_last=True # 多余的数据丢弃\n",
    "                                    ) \n",
    "print('step num:',len(train_loader))"
   ]
  },
  {
   "cell_type": "code",
   "execution_count": 13,
   "metadata": {},
   "outputs": [],
   "source": [
    "class MNIST(paddle.nn.Layer):\n",
    "    def __init__(self):\n",
    "        super(MNIST, self).__init__()\n",
    "        # 定义一层全连接层，输出维度是1\n",
    "        self.fc = paddle.nn.Linear(in_features=784, out_features=1)\n",
    "\n",
    "    def forward(self, inputs):\n",
    "        outputs = self.fc(inputs)\n",
    "        return outputs"
   ]
  },
  {
   "cell_type": "code",
   "execution_count": 14,
   "metadata": {},
   "outputs": [
    {
     "name": "stdout",
     "output_type": "stream",
     "text": [
      "create model:\n",
      "train:\n",
      "epoch: 0\n",
      "epoch: 0, batch: 0, loss is: [49.721504]\n",
      "epoch: 0, batch: 200, loss is: [8.000044]\n",
      "epoch: 0, batch: 400, loss is: [7.875365]\n",
      "epoch: 0, batch: 600, loss is: [8.398896]\n",
      "epoch: 0, batch: 800, loss is: [8.500625]\n",
      "epoch: 0, batch: 1000, loss is: [10.710493]\n",
      "epoch: 0, batch: 1200, loss is: [8.897474]\n",
      "epoch: 0, batch: 1400, loss is: [8.95763]\n",
      "epoch: 1\n",
      "epoch: 1, batch: 0, loss is: [6.9973726]\n",
      "epoch: 1, batch: 200, loss is: [7.125519]\n",
      "epoch: 1, batch: 400, loss is: [8.90251]\n",
      "epoch: 1, batch: 600, loss is: [9.347914]\n",
      "epoch: 1, batch: 800, loss is: [5.661331]\n",
      "epoch: 1, batch: 1000, loss is: [12.945835]\n",
      "epoch: 1, batch: 1200, loss is: [8.424143]\n",
      "epoch: 1, batch: 1400, loss is: [6.9396296]\n",
      "epoch: 2\n",
      "epoch: 2, batch: 0, loss is: [8.589945]\n",
      "epoch: 2, batch: 200, loss is: [9.462098]\n",
      "epoch: 2, batch: 400, loss is: [7.1859465]\n",
      "epoch: 2, batch: 600, loss is: [7.637679]\n",
      "epoch: 2, batch: 800, loss is: [10.674815]\n",
      "epoch: 2, batch: 1000, loss is: [9.763366]\n",
      "epoch: 2, batch: 1200, loss is: [8.161155]\n",
      "epoch: 2, batch: 1400, loss is: [15.989431]\n"
     ]
    }
   ],
   "source": [
    "def train(model):\n",
    "    print('train:')\n",
    "    model.train() # 开启训练模式，和eval模式的区别就是 训练模式需要进行梯度计算\n",
    "    opt = paddle.optimizer.SGD(learning_rate=0.001, parameters=model.parameters()) # 选择梯度下降作为优化函数\n",
    "    EPOCH_NUM = 3 # 进行三轮\n",
    "    for epoch_id in range(EPOCH_NUM):\n",
    "        print('epoch:',epoch_id)\n",
    "        for batch_id, data in enumerate(train_loader()):\n",
    "            images, labels = data\n",
    "            images = paddle.to_tensor(images).astype('float32')\n",
    "            labels = paddle.to_tensor(labels).astype('float32')\n",
    "            \n",
    "            images = paddle.reshape(images, [images.shape[0], images.shape[2]*images.shape[3]])\n",
    "\n",
    "            #前向计算的过程  \n",
    "            predicts = model(images)\n",
    "\n",
    "            #计算损失，取一个批次样本损失的平均值\n",
    "            loss = F.square_error_cost(predicts, labels) # 使用均方差计算孙损失\n",
    "            avg_loss = paddle.mean(loss)        # 取损失的平均值\n",
    "            \n",
    "            #每训练了200批次的数据，打印下当前Loss的情况\n",
    "            if batch_id % 200 == 0:\n",
    "                print(\"epoch: {}, batch: {}, loss is: {}\".format(epoch_id, batch_id, avg_loss.numpy()))\n",
    "            \n",
    "            #后向传播，更新参数的过程\n",
    "            avg_loss.backward()\n",
    "            opt.step()\n",
    "            opt.clear_grad()\n",
    "\n",
    "    #保存模型参数\n",
    "    paddle.save(model.state_dict(), './model/mnist.pdparams')\n",
    "\n",
    "#创建模型\n",
    "print(\"create model:\")\n",
    "model = MNIST()\n",
    "#启动训练过程\n",
    "train(model)"
   ]
  }
 ],
 "metadata": {
  "kernelspec": {
   "display_name": "paddle_env",
   "language": "python",
   "name": "python3"
  },
  "language_info": {
   "codemirror_mode": {
    "name": "ipython",
    "version": 3
   },
   "file_extension": ".py",
   "mimetype": "text/x-python",
   "name": "python",
   "nbconvert_exporter": "python",
   "pygments_lexer": "ipython3",
   "version": "3.9.16"
  },
  "orig_nbformat": 4
 },
 "nbformat": 4,
 "nbformat_minor": 2
}
